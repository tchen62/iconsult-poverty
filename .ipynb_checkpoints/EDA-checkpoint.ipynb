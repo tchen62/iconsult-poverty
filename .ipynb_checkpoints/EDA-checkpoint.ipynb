{
 "cells": [
  {
   "cell_type": "markdown",
   "metadata": {},
   "source": [
    "# Exploratory Data Analysis"
   ]
  },
  {
   "cell_type": "markdown",
   "metadata": {},
   "source": [
    "Importing packages"
   ]
  },
  {
   "cell_type": "code",
   "execution_count": 1,
   "metadata": {},
   "outputs": [],
   "source": [
    "import numpy as np\n",
    "import pandas as pd\n",
    "import matplotlib.pyplot as plt"
   ]
  },
  {
   "cell_type": "markdown",
   "metadata": {},
   "source": [
    "Importing data"
   ]
  },
  {
   "cell_type": "code",
   "execution_count": 2,
   "metadata": {},
   "outputs": [],
   "source": [
    "input_url = './data/'"
   ]
  },
  {
   "cell_type": "markdown",
   "metadata": {},
   "source": [
    "## DEC_10_DP_DPDP1:   \n",
    "## Profile of General Population and Housing Characteristics.   \n",
    "## 2010 Demographic Profile Data"
   ]
  },
  {
   "cell_type": "code",
   "execution_count": 3,
   "metadata": {},
   "outputs": [],
   "source": [
    "data = pd.read_csv(input_url + 'DEC_10_DP_DPDP1/DEC_10_DP_DPDP1_with_ann.csv')"
   ]
  },
  {
   "cell_type": "code",
   "execution_count": 4,
   "metadata": {},
   "outputs": [
    {
     "data": {
      "text/html": [
       "<div>\n",
       "<style scoped>\n",
       "    .dataframe tbody tr th:only-of-type {\n",
       "        vertical-align: middle;\n",
       "    }\n",
       "\n",
       "    .dataframe tbody tr th {\n",
       "        vertical-align: top;\n",
       "    }\n",
       "\n",
       "    .dataframe thead th {\n",
       "        text-align: right;\n",
       "    }\n",
       "</style>\n",
       "<table border=\"1\" class=\"dataframe\">\n",
       "  <thead>\n",
       "    <tr style=\"text-align: right;\">\n",
       "      <th></th>\n",
       "      <th>GEO.id</th>\n",
       "      <th>GEO.id2</th>\n",
       "      <th>GEO.display-label</th>\n",
       "      <th>HD01_S001</th>\n",
       "      <th>HD02_S001</th>\n",
       "      <th>HD01_S002</th>\n",
       "      <th>HD02_S002</th>\n",
       "      <th>HD01_S003</th>\n",
       "      <th>HD02_S003</th>\n",
       "      <th>HD01_S004</th>\n",
       "      <th>...</th>\n",
       "      <th>HD01_S182</th>\n",
       "      <th>HD02_S182</th>\n",
       "      <th>HD01_S183</th>\n",
       "      <th>HD02_S183</th>\n",
       "      <th>HD01_S184</th>\n",
       "      <th>HD02_S184</th>\n",
       "      <th>HD01_S185</th>\n",
       "      <th>HD02_S185</th>\n",
       "      <th>HD01_S186</th>\n",
       "      <th>HD02_S186</th>\n",
       "    </tr>\n",
       "  </thead>\n",
       "  <tbody>\n",
       "    <tr>\n",
       "      <th>0</th>\n",
       "      <td>Id</td>\n",
       "      <td>Id2</td>\n",
       "      <td>Geography</td>\n",
       "      <td>Number; SEX AND AGE - Total population</td>\n",
       "      <td>Percent; SEX AND AGE - Total population</td>\n",
       "      <td>Number; SEX AND AGE - Total population - Under...</td>\n",
       "      <td>Percent; SEX AND AGE - Total population - Unde...</td>\n",
       "      <td>Number; SEX AND AGE - Total population - 5 to ...</td>\n",
       "      <td>Percent; SEX AND AGE - Total population - 5 to...</td>\n",
       "      <td>Number; SEX AND AGE - Total population - 10 to...</td>\n",
       "      <td>...</td>\n",
       "      <td>Number; HOUSING TENURE - Occupied housing unit...</td>\n",
       "      <td>Percent; HOUSING TENURE - Occupied housing uni...</td>\n",
       "      <td>Number; HOUSING TENURE - Occupied housing unit...</td>\n",
       "      <td>Percent; HOUSING TENURE - Occupied housing uni...</td>\n",
       "      <td>Number; HOUSING TENURE - Occupied housing unit...</td>\n",
       "      <td>Percent; HOUSING TENURE - Occupied housing uni...</td>\n",
       "      <td>Number; HOUSING TENURE - Occupied housing unit...</td>\n",
       "      <td>Percent; HOUSING TENURE - Occupied housing uni...</td>\n",
       "      <td>Number; HOUSING TENURE - Occupied housing unit...</td>\n",
       "      <td>Percent; HOUSING TENURE - Occupied housing uni...</td>\n",
       "    </tr>\n",
       "    <tr>\n",
       "      <th>1</th>\n",
       "      <td>0100000US</td>\n",
       "      <td>NaN</td>\n",
       "      <td>United States</td>\n",
       "      <td>308745538(r38234)</td>\n",
       "      <td>100.0</td>\n",
       "      <td>20201362</td>\n",
       "      <td>6.5</td>\n",
       "      <td>20348657</td>\n",
       "      <td>6.6</td>\n",
       "      <td>20677194</td>\n",
       "      <td>...</td>\n",
       "      <td>201278493</td>\n",
       "      <td>( X )</td>\n",
       "      <td>2.65</td>\n",
       "      <td>( X )</td>\n",
       "      <td>40730218</td>\n",
       "      <td>34.9</td>\n",
       "      <td>99479722</td>\n",
       "      <td>( X )</td>\n",
       "      <td>2.44</td>\n",
       "      <td>( X )</td>\n",
       "    </tr>\n",
       "  </tbody>\n",
       "</table>\n",
       "<p>2 rows × 375 columns</p>\n",
       "</div>"
      ],
      "text/plain": [
       "      GEO.id GEO.id2 GEO.display-label  \\\n",
       "0         Id     Id2         Geography   \n",
       "1  0100000US     NaN     United States   \n",
       "\n",
       "                                HD01_S001  \\\n",
       "0  Number; SEX AND AGE - Total population   \n",
       "1                       308745538(r38234)   \n",
       "\n",
       "                                 HD02_S001  \\\n",
       "0  Percent; SEX AND AGE - Total population   \n",
       "1                                    100.0   \n",
       "\n",
       "                                           HD01_S002  \\\n",
       "0  Number; SEX AND AGE - Total population - Under...   \n",
       "1                                           20201362   \n",
       "\n",
       "                                           HD02_S002  \\\n",
       "0  Percent; SEX AND AGE - Total population - Unde...   \n",
       "1                                                6.5   \n",
       "\n",
       "                                           HD01_S003  \\\n",
       "0  Number; SEX AND AGE - Total population - 5 to ...   \n",
       "1                                           20348657   \n",
       "\n",
       "                                           HD02_S003  \\\n",
       "0  Percent; SEX AND AGE - Total population - 5 to...   \n",
       "1                                                6.6   \n",
       "\n",
       "                                           HD01_S004  \\\n",
       "0  Number; SEX AND AGE - Total population - 10 to...   \n",
       "1                                           20677194   \n",
       "\n",
       "                         ...                          \\\n",
       "0                        ...                           \n",
       "1                        ...                           \n",
       "\n",
       "                                           HD01_S182  \\\n",
       "0  Number; HOUSING TENURE - Occupied housing unit...   \n",
       "1                                          201278493   \n",
       "\n",
       "                                           HD02_S182  \\\n",
       "0  Percent; HOUSING TENURE - Occupied housing uni...   \n",
       "1                                             ( X )    \n",
       "\n",
       "                                           HD01_S183  \\\n",
       "0  Number; HOUSING TENURE - Occupied housing unit...   \n",
       "1                                               2.65   \n",
       "\n",
       "                                           HD02_S183  \\\n",
       "0  Percent; HOUSING TENURE - Occupied housing uni...   \n",
       "1                                             ( X )    \n",
       "\n",
       "                                           HD01_S184  \\\n",
       "0  Number; HOUSING TENURE - Occupied housing unit...   \n",
       "1                                           40730218   \n",
       "\n",
       "                                           HD02_S184  \\\n",
       "0  Percent; HOUSING TENURE - Occupied housing uni...   \n",
       "1                                               34.9   \n",
       "\n",
       "                                           HD01_S185  \\\n",
       "0  Number; HOUSING TENURE - Occupied housing unit...   \n",
       "1                                           99479722   \n",
       "\n",
       "                                           HD02_S185  \\\n",
       "0  Percent; HOUSING TENURE - Occupied housing uni...   \n",
       "1                                             ( X )    \n",
       "\n",
       "                                           HD01_S186  \\\n",
       "0  Number; HOUSING TENURE - Occupied housing unit...   \n",
       "1                                               2.44   \n",
       "\n",
       "                                           HD02_S186  \n",
       "0  Percent; HOUSING TENURE - Occupied housing uni...  \n",
       "1                                             ( X )   \n",
       "\n",
       "[2 rows x 375 columns]"
      ]
     },
     "execution_count": 4,
     "metadata": {},
     "output_type": "execute_result"
    }
   ],
   "source": [
    "data.head()"
   ]
  },
  {
   "cell_type": "code",
   "execution_count": 22,
   "metadata": {},
   "outputs": [
    {
     "data": {
      "text/plain": [
       "HD01_S001    308745538(r38234)\n",
       "HD02_S001                100.0\n",
       "HD01_S002             20201362\n",
       "HD02_S002                  6.5\n",
       "HD01_S003             20348657\n",
       "HD02_S003                  6.6\n",
       "HD01_S004             20677194\n",
       "HD02_S004                  6.7\n",
       "HD01_S005             22040343\n",
       "HD02_S005                  7.1\n",
       "HD01_S006             21585999\n",
       "HD02_S006                  7.0\n",
       "HD01_S007             21101849\n",
       "HD02_S007                  6.8\n",
       "HD01_S008             19962099\n",
       "HD02_S008                  6.5\n",
       "HD01_S009             20179642\n",
       "HD02_S009                  6.5\n",
       "HD01_S010             20890964\n",
       "HD02_S010                  6.8\n",
       "HD01_S011             22708591\n",
       "HD02_S011                  7.4\n",
       "HD01_S012             22298125\n",
       "HD02_S012                  7.2\n",
       "HD01_S013             19664805\n",
       "HD02_S013                  6.4\n",
       "HD01_S014             16817924\n",
       "HD02_S014                  5.4\n",
       "HD01_S015             12435263\n",
       "HD02_S015                  4.0\n",
       "HD01_S016              9278166\n",
       "HD02_S016                  3.0\n",
       "HD01_S017              7317795\n",
       "HD02_S017                  2.4\n",
       "HD01_S018              5743327\n",
       "HD02_S018                  1.9\n",
       "HD01_S019              5493433\n",
       "HD02_S019                  1.8\n",
       "Name: 1, dtype: object"
      ]
     },
     "execution_count": 22,
     "metadata": {},
     "output_type": "execute_result"
    }
   ],
   "source": [
    "data.iloc[1, 3:41]"
   ]
  },
  {
   "cell_type": "code",
   "execution_count": null,
   "metadata": {},
   "outputs": [],
   "source": []
  }
 ],
 "metadata": {
  "kernelspec": {
   "display_name": "Python 3",
   "language": "python",
   "name": "python3"
  },
  "language_info": {
   "codemirror_mode": {
    "name": "ipython",
    "version": 3
   },
   "file_extension": ".py",
   "mimetype": "text/x-python",
   "name": "python",
   "nbconvert_exporter": "python",
   "pygments_lexer": "ipython3",
   "version": "3.7.1"
  }
 },
 "nbformat": 4,
 "nbformat_minor": 2
}
