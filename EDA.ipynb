{
 "cells": [
  {
   "cell_type": "markdown",
   "metadata": {},
   "source": [
    "# Exploratory Data Analysis"
   ]
  },
  {
   "cell_type": "markdown",
   "metadata": {},
   "source": [
    "- Importing packages"
   ]
  },
  {
   "cell_type": "code",
   "execution_count": 23,
   "metadata": {},
   "outputs": [],
   "source": [
    "import numpy as np\n",
    "import pandas as pd\n",
    "import matplotlib.pyplot as plt"
   ]
  },
  {
   "cell_type": "markdown",
   "metadata": {},
   "source": [
    "- Importing data"
   ]
  },
  {
   "cell_type": "code",
   "execution_count": 24,
   "metadata": {},
   "outputs": [],
   "source": [
    "input_url = './data/'"
   ]
  },
  {
   "cell_type": "markdown",
   "metadata": {},
   "source": [
    "## DEC_10_DP_DPDP1:   \n",
    "- Profile of General Population and Housing Characteristics.   \n",
    "- 2010 Demographic Profile Data"
   ]
  },
  {
   "cell_type": "code",
   "execution_count": 25,
   "metadata": {},
   "outputs": [],
   "source": [
    "data = pd.read_csv(input_url + 'DEC_10_DP_DPDP1/DEC_10_DP_DPDP1_with_ann.csv')"
   ]
  },
  {
   "cell_type": "code",
   "execution_count": 26,
   "metadata": {},
   "outputs": [
    {
     "data": {
      "text/html": [
       "<div>\n",
       "<style scoped>\n",
       "    .dataframe tbody tr th:only-of-type {\n",
       "        vertical-align: middle;\n",
       "    }\n",
       "\n",
       "    .dataframe tbody tr th {\n",
       "        vertical-align: top;\n",
       "    }\n",
       "\n",
       "    .dataframe thead th {\n",
       "        text-align: right;\n",
       "    }\n",
       "</style>\n",
       "<table border=\"1\" class=\"dataframe\">\n",
       "  <thead>\n",
       "    <tr style=\"text-align: right;\">\n",
       "      <th></th>\n",
       "      <th>GEO.id</th>\n",
       "      <th>GEO.id2</th>\n",
       "      <th>GEO.display-label</th>\n",
       "      <th>HD01_S001</th>\n",
       "      <th>HD02_S001</th>\n",
       "      <th>HD01_S002</th>\n",
       "      <th>HD02_S002</th>\n",
       "      <th>HD01_S003</th>\n",
       "      <th>HD02_S003</th>\n",
       "      <th>HD01_S004</th>\n",
       "      <th>...</th>\n",
       "      <th>HD01_S182</th>\n",
       "      <th>HD02_S182</th>\n",
       "      <th>HD01_S183</th>\n",
       "      <th>HD02_S183</th>\n",
       "      <th>HD01_S184</th>\n",
       "      <th>HD02_S184</th>\n",
       "      <th>HD01_S185</th>\n",
       "      <th>HD02_S185</th>\n",
       "      <th>HD01_S186</th>\n",
       "      <th>HD02_S186</th>\n",
       "    </tr>\n",
       "  </thead>\n",
       "  <tbody>\n",
       "    <tr>\n",
       "      <th>0</th>\n",
       "      <td>Id</td>\n",
       "      <td>Id2</td>\n",
       "      <td>Geography</td>\n",
       "      <td>Number; SEX AND AGE - Total population</td>\n",
       "      <td>Percent; SEX AND AGE - Total population</td>\n",
       "      <td>Number; SEX AND AGE - Total population - Under...</td>\n",
       "      <td>Percent; SEX AND AGE - Total population - Unde...</td>\n",
       "      <td>Number; SEX AND AGE - Total population - 5 to ...</td>\n",
       "      <td>Percent; SEX AND AGE - Total population - 5 to...</td>\n",
       "      <td>Number; SEX AND AGE - Total population - 10 to...</td>\n",
       "      <td>...</td>\n",
       "      <td>Number; HOUSING TENURE - Occupied housing unit...</td>\n",
       "      <td>Percent; HOUSING TENURE - Occupied housing uni...</td>\n",
       "      <td>Number; HOUSING TENURE - Occupied housing unit...</td>\n",
       "      <td>Percent; HOUSING TENURE - Occupied housing uni...</td>\n",
       "      <td>Number; HOUSING TENURE - Occupied housing unit...</td>\n",
       "      <td>Percent; HOUSING TENURE - Occupied housing uni...</td>\n",
       "      <td>Number; HOUSING TENURE - Occupied housing unit...</td>\n",
       "      <td>Percent; HOUSING TENURE - Occupied housing uni...</td>\n",
       "      <td>Number; HOUSING TENURE - Occupied housing unit...</td>\n",
       "      <td>Percent; HOUSING TENURE - Occupied housing uni...</td>\n",
       "    </tr>\n",
       "    <tr>\n",
       "      <th>1</th>\n",
       "      <td>1600000US3673000</td>\n",
       "      <td>3673000</td>\n",
       "      <td>Syracuse city, New York</td>\n",
       "      <td>145170(r47059)</td>\n",
       "      <td>100.0</td>\n",
       "      <td>10217</td>\n",
       "      <td>7.0</td>\n",
       "      <td>8998</td>\n",
       "      <td>6.2</td>\n",
       "      <td>8480</td>\n",
       "      <td>...</td>\n",
       "      <td>52298</td>\n",
       "      <td>( X )</td>\n",
       "      <td>2.37</td>\n",
       "      <td>( X )</td>\n",
       "      <td>35251</td>\n",
       "      <td>61.5</td>\n",
       "      <td>80090</td>\n",
       "      <td>( X )</td>\n",
       "      <td>2.27</td>\n",
       "      <td>( X )</td>\n",
       "    </tr>\n",
       "  </tbody>\n",
       "</table>\n",
       "<p>2 rows × 375 columns</p>\n",
       "</div>"
      ],
      "text/plain": [
       "             GEO.id  GEO.id2        GEO.display-label  \\\n",
       "0                Id      Id2                Geography   \n",
       "1  1600000US3673000  3673000  Syracuse city, New York   \n",
       "\n",
       "                                HD01_S001  \\\n",
       "0  Number; SEX AND AGE - Total population   \n",
       "1                          145170(r47059)   \n",
       "\n",
       "                                 HD02_S001  \\\n",
       "0  Percent; SEX AND AGE - Total population   \n",
       "1                                    100.0   \n",
       "\n",
       "                                           HD01_S002  \\\n",
       "0  Number; SEX AND AGE - Total population - Under...   \n",
       "1                                              10217   \n",
       "\n",
       "                                           HD02_S002  \\\n",
       "0  Percent; SEX AND AGE - Total population - Unde...   \n",
       "1                                                7.0   \n",
       "\n",
       "                                           HD01_S003  \\\n",
       "0  Number; SEX AND AGE - Total population - 5 to ...   \n",
       "1                                               8998   \n",
       "\n",
       "                                           HD02_S003  \\\n",
       "0  Percent; SEX AND AGE - Total population - 5 to...   \n",
       "1                                                6.2   \n",
       "\n",
       "                                           HD01_S004  \\\n",
       "0  Number; SEX AND AGE - Total population - 10 to...   \n",
       "1                                               8480   \n",
       "\n",
       "                         ...                          \\\n",
       "0                        ...                           \n",
       "1                        ...                           \n",
       "\n",
       "                                           HD01_S182  \\\n",
       "0  Number; HOUSING TENURE - Occupied housing unit...   \n",
       "1                                              52298   \n",
       "\n",
       "                                           HD02_S182  \\\n",
       "0  Percent; HOUSING TENURE - Occupied housing uni...   \n",
       "1                                             ( X )    \n",
       "\n",
       "                                           HD01_S183  \\\n",
       "0  Number; HOUSING TENURE - Occupied housing unit...   \n",
       "1                                               2.37   \n",
       "\n",
       "                                           HD02_S183  \\\n",
       "0  Percent; HOUSING TENURE - Occupied housing uni...   \n",
       "1                                             ( X )    \n",
       "\n",
       "                                           HD01_S184  \\\n",
       "0  Number; HOUSING TENURE - Occupied housing unit...   \n",
       "1                                              35251   \n",
       "\n",
       "                                           HD02_S184  \\\n",
       "0  Percent; HOUSING TENURE - Occupied housing uni...   \n",
       "1                                               61.5   \n",
       "\n",
       "                                           HD01_S185  \\\n",
       "0  Number; HOUSING TENURE - Occupied housing unit...   \n",
       "1                                              80090   \n",
       "\n",
       "                                           HD02_S185  \\\n",
       "0  Percent; HOUSING TENURE - Occupied housing uni...   \n",
       "1                                             ( X )    \n",
       "\n",
       "                                           HD01_S186  \\\n",
       "0  Number; HOUSING TENURE - Occupied housing unit...   \n",
       "1                                               2.27   \n",
       "\n",
       "                                           HD02_S186  \n",
       "0  Percent; HOUSING TENURE - Occupied housing uni...  \n",
       "1                                             ( X )   \n",
       "\n",
       "[2 rows x 375 columns]"
      ]
     },
     "execution_count": 26,
     "metadata": {},
     "output_type": "execute_result"
    }
   ],
   "source": [
    "data.head()"
   ]
  },
  {
   "cell_type": "markdown",
   "metadata": {},
   "source": [
    "## Age population"
   ]
  },
  {
   "cell_type": "code",
   "execution_count": 30,
   "metadata": {},
   "outputs": [],
   "source": [
    "population_df = data.iloc[1, 3:41:2]"
   ]
  },
  {
   "cell_type": "code",
   "execution_count": 31,
   "metadata": {},
   "outputs": [],
   "source": [
    "percentage_df = data.iloc[1, 4:42:2]"
   ]
  },
  {
   "cell_type": "code",
   "execution_count": null,
   "metadata": {},
   "outputs": [],
   "source": []
  }
 ],
 "metadata": {
  "kernelspec": {
   "display_name": "Python 3",
   "language": "python",
   "name": "python3"
  },
  "language_info": {
   "codemirror_mode": {
    "name": "ipython",
    "version": 3
   },
   "file_extension": ".py",
   "mimetype": "text/x-python",
   "name": "python",
   "nbconvert_exporter": "python",
   "pygments_lexer": "ipython3",
   "version": "3.7.1"
  }
 },
 "nbformat": 4,
 "nbformat_minor": 2
}
